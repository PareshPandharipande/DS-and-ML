{
 "cells": [
  {
   "cell_type": "markdown",
   "metadata": {},
   "source": [
    "# String functions assignment"
   ]
  },
  {
   "cell_type": "code",
   "execution_count": 22,
   "metadata": {},
   "outputs": [
    {
     "name": "stdout",
     "output_type": "stream",
     "text": [
      "Enter the stringrahul\n",
      "character at even position:\n",
      "r\n",
      "h\n",
      "l\n",
      "character at odd position:\n",
      "a\n",
      "u\n"
     ]
    }
   ],
   "source": [
    "#question 1\n",
    "\n",
    "#even index characters\n",
    "#odd index characters\n",
    "#rahul\n",
    "#rhl\n",
    "#au\n",
    "\n",
    "s=input('Enter the string')\n",
    "i=0\n",
    "print('character at even position:')\n",
    "while i<len(s):\n",
    "    print(s[i],end='')\n",
    "    i=i+2\n",
    "    print()\n",
    "    \n",
    "i=1\n",
    "print('character at odd position:')\n",
    "while i<len(s):\n",
    "    print(s[i],end='')\n",
    "    i=i+2\n",
    "    print()\n",
    " "
   ]
  },
  {
   "cell_type": "code",
   "execution_count": 1,
   "metadata": {},
   "outputs": [
    {
     "name": "stdout",
     "output_type": "stream",
     "text": [
      "Enter some stringrahul\n",
      "even index character rhl\n",
      "odd index character au\n"
     ]
    }
   ],
   "source": [
    "#or we can also do this\n",
    "\n",
    "\n",
    "s=input('Enter some string')\n",
    "print('even index character',s[0::2])\n",
    "print('odd index character',s[1::2])"
   ]
  },
  {
   "cell_type": "code",
   "execution_count": 7,
   "metadata": {},
   "outputs": [
    {
     "name": "stdout",
     "output_type": "stream",
     "text": [
      "JJoahmne\n"
     ]
    }
   ],
   "source": [
    "#question 2\n",
    "\n",
    "#s1 = 'John'\n",
    "#s2 = 'Jame'\n",
    "#output = JJoahmne\n",
    "\n",
    "a='John'\n",
    "b='Jame'\n",
    "x=''\n",
    "for i in range(len(a)):\n",
    "    d=a[i]+b[i]\n",
    "    x=x+d\n",
    "print(x)"
   ]
  },
  {
   "cell_type": "code",
   "execution_count": 4,
   "metadata": {},
   "outputs": [
    {
     "name": "stdout",
     "output_type": "stream",
     "text": [
      "Enter first stringJohn\n",
      "Enter second stringJame\n",
      "JJoahmne\n"
     ]
    }
   ],
   "source": [
    "#or it can be done as \n",
    "s1=input('Enter first string')\n",
    "s2=input('Enter second string')\n",
    "x=''\n",
    "i,j=0,0\n",
    "while i<len(s1) or j<len(s2):\n",
    "    if i<len(s1):\n",
    "        x=x+s1[i]\n",
    "        i=i+1\n",
    "    if j<len(s2):\n",
    "        x=x+s2[j]\n",
    "        j=j+1\n",
    "print(x)"
   ]
  },
  {
   "cell_type": "code",
   "execution_count": 9,
   "metadata": {},
   "outputs": [
    {
     "name": "stdout",
     "output_type": "stream",
     "text": [
      "Enter the string:B4A1D3\n",
      "ABD134\n"
     ]
    }
   ],
   "source": [
    "#question 3\n",
    "\n",
    "#input - B4A1D3\n",
    "#output - ABD134\n",
    " \n",
    "\n",
    "s = input('Enter the string:')\n",
    "alphabets=[]\n",
    "digits=[]\n",
    "for i in s:\n",
    "    if i.isalpha():\n",
    "        alphabets.append(i)\n",
    "    else:\n",
    "        digits.append(i)\n",
    "output=''.join(sorted(alphabets)+sorted(digits))\n",
    "print(output)"
   ]
  },
  {
   "cell_type": "code",
   "execution_count": 16,
   "metadata": {},
   "outputs": [
    {
     "name": "stdout",
     "output_type": "stream",
     "text": [
      "Enter the string:a4b3c2\n",
      "aaaabbbcc\n"
     ]
    }
   ],
   "source": [
    "#question 4\n",
    "#input - a4b3c2\n",
    "#output - aaaabbbcc\n",
    "\n",
    "s = input('Enter the string:')\n",
    "output=''\n",
    "for i in s:\n",
    "    if i.isalpha():\n",
    "        x=i\n",
    "    else:\n",
    "        d=int(i)\n",
    "        output=output+x*d\n",
    "print(output)"
   ]
  },
  {
   "cell_type": "code",
   "execution_count": 11,
   "metadata": {},
   "outputs": [
    {
     "name": "stdout",
     "output_type": "stream",
     "text": [
      "Enter the string:a4k3b2\n",
      "aeknbd\n"
     ]
    }
   ],
   "source": [
    "#question 5\n",
    "#input - a4k3b2\n",
    "#output- aeknbd\n",
    "\n",
    "s=input('Enter the string:')\n",
    "x=''\n",
    "for i in s:\n",
    "    if i.isalpha():\n",
    "        x=x+i\n",
    "        variable=i\n",
    "    else:\n",
    "        d=int(i)\n",
    "        newch=chr(ord(variable)+d)\n",
    "        x=x+newch\n",
    "print(x)"
   ]
  },
  {
   "cell_type": "code",
   "execution_count": null,
   "metadata": {},
   "outputs": [],
   "source": []
  },
  {
   "cell_type": "code",
   "execution_count": null,
   "metadata": {},
   "outputs": [],
   "source": []
  }
 ],
 "metadata": {
  "kernelspec": {
   "display_name": "Python 3",
   "language": "python",
   "name": "python3"
  },
  "language_info": {
   "codemirror_mode": {
    "name": "ipython",
    "version": 3
   },
   "file_extension": ".py",
   "mimetype": "text/x-python",
   "name": "python",
   "nbconvert_exporter": "python",
   "pygments_lexer": "ipython3",
   "version": "3.7.6"
  }
 },
 "nbformat": 4,
 "nbformat_minor": 4
}
