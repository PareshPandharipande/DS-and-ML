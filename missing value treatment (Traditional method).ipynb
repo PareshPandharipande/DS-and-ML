{
 "cells": [
  {
   "cell_type": "markdown",
   "metadata": {},
   "source": [
    "# DATA MINING TRADITIONAL METHOD"
   ]
  },
  {
   "cell_type": "code",
   "execution_count": 1,
   "metadata": {},
   "outputs": [],
   "source": [
    "import pandas as pd\n",
    "import numpy as np\n",
    "import seaborn as sns\n",
    "import matplotlib.pyplot as plt\n",
    "from sklearn.impute import SimpleImputer\n",
    "from sklearn.impute import KNNImputer\n",
    "from IPython.core.display import HTML\n",
    "from sklearn import preprocessing\n",
    "from fancyimpute import KNN"
   ]
  },
  {
   "cell_type": "markdown",
   "metadata": {},
   "source": [
    "# Missing value tratment : MEAN"
   ]
  },
  {
   "cell_type": "code",
   "execution_count": 2,
   "metadata": {},
   "outputs": [],
   "source": [
    "df = pd.read_excel('sample.xlsx')"
   ]
  },
  {
   "cell_type": "code",
   "execution_count": null,
   "metadata": {},
   "outputs": [],
   "source": [
    "def quickinfo(df):\n",
    "    print(\"The Percenatge of Value Missing in Given Data is : {:.2f}%\".format(((df.isna().sum().sum())/(df.count().sum())*100)))\n",
    "    print('')\n",
    "    print(\"Data to be treated using MEAN : {}\".format(list(dict(df.mean()).keys())))  #The keys() method returns a view object. The view object contains the keys of the dictionary, as a list.\n",
    "    print('')\n",
    "    total_column=dict((df.dtypes))                                # This returns a Series with the data type of each column. The result’s index is the original DataFrame’s columns. Columns with mixed types are stored with the object dtype\n",
    "    total_column_set=set(total_column.keys())                     # it creates a set of total columns present in the dataset \n",
    "    numerical_column_set=set(dict(df.median()).keys())            # it creates the set of NUMERICAL FEATURES. \n",
    "    categorical_column=list(total_column_set-numerical_column_set)# here numerical features are subtracted from all features in order to get the list of categorical features \n",
    "    print(\"The Categorical Data we have :\",categorical_column)    # it is the print statement for categorical features\n",
    "    print('')\n",
    "    print('Shape of dataframe (Rows, Columns): ',df.shape)        # df.shape returns number of row,number of columns in form of tuple for the imported dataset \n",
    "    print('')\n",
    "    print('Data description : ',df.describe())                    # df.describe displays complete description of \"df\", which consist of count,mean, standard deviation,minimum value, maximum value, 25th - 50th - 75th percentile values of respective numerical columns of given dataset\n",
    "    print('')\n",
    "    print(\"Only Numerical missing values will be treated using MEAN \")  \n",
    "    print(\"categorical missing values will be treated using MODE \")\n",
    "quickinfo(df)\n",
    "\n",
    "\n",
    "def mean(df):\n",
    "    print('Following is the data available after Missing Value Treatment using MEAN')\n",
    "    clean_df=(df.fillna(df.mean()))     # here is new dataframe is created where all null values are imputed using fillna,The fillna() function is used to fill NA/NaN values using the specified method. the method here used is MEAN ,mean() The mean() function is used to return the mean of the values for the requested axis. If we apply this method on a Series object, then it returns a scalar value, which is the mean value of all the observations in the dataframe/featue.\n",
    "    clean_df.fillna(clean_df.select_dtypes(include='object').mode().iloc[0], inplace=True) # as we used fillna with mean to impute numerical missing data, but the categorical data is still having nans in it. so here the dataframe is directly handled using MODE (most_frequent) method for \"object\" datatype in the dataframe\n",
    "    clean_df2=clean_df.head(10)         # Pandas head() method is used to return top n rows of a data frame or series.\n",
    "    display(HTML(clean_df2.to_html()))  #display - When this object is returned by an expression or passed to the display function, it will result in the data being displayed in the frontend.\n",
    "    print(\"\\nEmpty rows  after imputing the data: \\n\", clean_df.isnull().sum()) #showing null values(if any) after imputation\n",
    "\n",
    "mean(df)\n",
    "\n",
    "\n",
    "def plot(df):\n",
    "    print(\"Following line plot shows available and missing data in given dataset \") \n",
    "    df.plot.line(subplots = False) #it shows complete data visualization in one plot \n",
    "    df.plot.line(subplots = True)  # data is vizualized seperatly of all numerical columns. \n",
    "    \n",
    "plot(df)"
   ]
  },
  {
   "cell_type": "markdown",
   "metadata": {},
   "source": [
    "# Missing value treatment : MEDIAN"
   ]
  },
  {
   "cell_type": "code",
   "execution_count": null,
   "metadata": {},
   "outputs": [],
   "source": [
    "def quickinfo(df):\n",
    "    print(\"The Percenatge of Value Missing in Given Data is : {:.2f}%\".format(((df.isna().sum().sum())/(df.count().sum())*100))) # here the total number of missing values in all features are divided with sum of count of all data to get the percentage of missing values\n",
    "    print('')\n",
    "    print(\"The Numerical Data we have : {}\".format(list(dict(df.median()).keys()))) # The list of numerical features is printed here obtained using df.median() as median only considers the numerical data The keys() method returns a view object. The view object contains the keys of the dictionary, as a list.\n",
    "    print('')\n",
    "     \n",
    "    total_column=dict((df.dtypes))                                # returns the dictionary of all features in given dataset\n",
    "    total_column_set=set(total_column.keys())                     # returns the dict total_column in form of set\n",
    "    numerical_column_set=set(dict(df.median()).keys())            # it returns the set of numerical features (using median as it considers only numerical data)\n",
    "    categorical_column=list(total_column_set-numerical_column_set)# here the numerical features are subtracted from total features in order to get the remaining features as CATEGORICAL COLUMN\n",
    "    print(\"The Categorical Data we have :\",categorical_column)    # print statement of categorical_column\n",
    "    print('')\n",
    "    print('Shape of dataframe (Rows, Columns): ',df.shape)        # df.shape returns number of row,number of columns in form of tuple for the imported dataset \n",
    "    print('')\n",
    "    print('Data description : ',df.describe())                    # df.describe displays complete description of \"df\", which consist of count,mean, standard deviation,minimum value, maximum value, 25th - 50th - 75th percentile values of respective numerical columns of given dataset\n",
    "    print('')\n",
    "    print(\"Only Numerical missing values will be treated using Median \")\n",
    "quickinfo(df)\n",
    "\n",
    "def median(df):\n",
    "    print('')\n",
    "    print('Following is the data available after Missing Value Treatment using MEDIAN')\n",
    "    clean_df=(df.fillna(df.median()))   # a new dataframe is created from original dataframe df where all the null values are imputed with median of the respective featue\n",
    "    clean_df.fillna(clean_df.select_dtypes(include='object').mode().iloc[0], inplace=True)  # after imputing the missing data with median of respt. feature , the categorical data is still remaining the unchanged. so the categorical data is imputed using MODE (most_frequent) method.\n",
    "    clean_df2=clean_df.head(10)         # Pandas head() method is used to return top n rows of a data frame or series.\n",
    "    display(HTML(clean_df2.to_html()))  # display - When this object is returned by an expression or passed to the display function, it will result in the data being displayed in the frontend.\n",
    "    print(\"\\nEmpty rows  after imputing the data: \\n\", clean_df.isnull().sum())  #showing null values(if any) after imputation\n",
    "\n",
    "median(df)\n",
    "\n",
    "def plot(df):\n",
    "    print('')\n",
    "    print(\"Following line plot shows available and missing data Present in dataset \")\n",
    "    print('')\n",
    "    df.plot.line(subplots = False) #it shows complete data visualization in one plot.\n",
    "    df.plot.line(subplots = True)  # data is vizualized seperatly of all numerical columns.\n",
    "plot(df)"
   ]
  },
  {
   "cell_type": "markdown",
   "metadata": {},
   "source": [
    "# Missing value treatment : MODE"
   ]
  },
  {
   "cell_type": "code",
   "execution_count": null,
   "metadata": {},
   "outputs": [],
   "source": [
    "def quickinfo(df):\n",
    "    num_col =list(data.select_dtypes(include='float64').columns) # Formation of list containing numerical data from the given dataset.\n",
    "    print(\"The Total Percenatge of Value Missing in Given Data is : {:.3f}%\".format((df.isna().sum().sum())/(df.count().sum())*100)) # sum of total null values is divided with total values in given dataset in order to get percentage of missing values. \n",
    "    print(\"\\nThe Percenatge of Value Missing in each column is :\\n{}\".format((df.isnull().sum()*100)/df.shape[0])) # returns percentage of missing data in individual features \n",
    "    print('')\n",
    "    print('Shape of dataframe (Rows, Columns): ',df.shape) # df.shape returns number of row,number of columns in form of tuple for the imported dataset \n",
    "    print('')\n",
    "    print('Data description :\\n',df.describe())            # df.describe displays complete description of \"df\", which consist of count,mean, standard deviation,minimum value, maximum value, 25th - 50th - 75th percentile values of respective numerical columns of given dataset\n",
    "quickinfo(data)\n",
    "\n",
    "def MODE(df):\n",
    "    print('')\n",
    "    print('Following is the data available after Missing Value Treatment using MODE')\n",
    "    clean_df=(df.fillna(df.mode().iloc[0]))               # here all data (including numercial and categorical) is being imputed using most_frequent occurances.\n",
    "    print(clean_df)                                       # print statement of new dataframe clean_df\n",
    "    clean_df1=clean_df.head(10)                           # Pandas head() method is used to return top n rows of a data frame or series.\n",
    "    display(HTML(clean_df1.to_html()))                    # display - When this object is returned by an expression or passed to the display function, it will result in the data being displayed in the frontend.\n",
    "    print(\"\\nEmpty rows  after imputing the data: \\n\", clean_df.isnull().sum())  #showing null values(if any) after imputation\n",
    "MODE(data)\n",
    "\n",
    "def plot(df):\n",
    "    df.plot.line(subplots = False)                        #it shows complete data visualization in one plot.\n",
    "    df.plot.line(subplots = True)                         # data is vizualized seperatly of all numerical columns.\n",
    "plot(data)"
   ]
  },
  {
   "cell_type": "code",
   "execution_count": null,
   "metadata": {},
   "outputs": [],
   "source": []
  },
  {
   "cell_type": "markdown",
   "metadata": {},
   "source": [
    "# Missing Value Treatment : KNN"
   ]
  },
  {
   "cell_type": "code",
   "execution_count": null,
   "metadata": {},
   "outputs": [],
   "source": [
    "data = pd.read_csv(\"titanic.csv\")"
   ]
  },
  {
   "cell_type": "code",
   "execution_count": null,
   "metadata": {},
   "outputs": [],
   "source": [
    "def quickinfo(df):\n",
    "    num_col =list(data.select_dtypes(include='float64').columns)                             # Formation of list containing numerical data from the given dataset.\n",
    "    print(\"The Percenatge of Value Missing in Given Data is : {:.2f}%\".format(((df.isna().sum().sum())/(df.count().sum())*100)))# sum of total null values is divided with total values in given dataset in order to get percentage of missing values. \n",
    "    print('')\n",
    "    print(\"Numerical data : {}\".format(list(dict(df.median()).keys())))                      # print statement for list of numerical features \n",
    "    print(\"Categorical data : {}\".format(list(data.select_dtypes(include='object').mode()))) # returns list of categorical data (object)\n",
    "    print('')\n",
    "    print('Shape of dataframe (Rows, Columns): ',df.shape)  # df.shape returns number of row,number of columns in form of tuple for the imported dataset \n",
    "    print('')\n",
    "    print('Data description : ',df.describe())              # df.describe displays complete description of \"df\", which consist of count,mean, standard deviation,minimum value, maximum value, 25th - 50th - 75th percentile values of respective numerical columns of given dataset\n",
    "    print('')\n",
    "    \n",
    "quickinfo(data)\n",
    "\n",
    "def plot(df):\n",
    "    ### plot is showing the missing data in given dataset. \n",
    "    df.plot.line(subplots = False)                         #it shows complete data visualization in one plot.\n",
    "    df.plot.line(subplots = True)                          # data is vizualized seperatly of all numerical columns.\n",
    "plot(data)\n",
    "\n",
    "def KNN(df):\n",
    "    #print('Following is the data available after Missing Value Treatment using KNN')\n",
    "    num_col =list(data.select_dtypes(include='float64').columns)   # Formation of list containing numerical data from the given dataset.\n",
    "    knn =KNNImputer(n_neighbors =1,add_indicator =True)            # formation of knn variable(IMPUTER) with nearest neighbour = 1\n",
    "    knn.fit(data[num_col])                                         # The imputer is fit on the dataset, Fit function adjusts weights according to data values so that better accuracy can be achieved.\n",
    "    knn_impute =pd.DataFrame(knn.transform(data[num_col]))         # Then, the fit imputer is applied to a dataset to create a copy of the dataset with all missing values for each column replaced with an estimated value.\n",
    "    data[num_col]=knn_impute.iloc[:,:data[num_col].shape[1]]       # knn_impute variable applied for all rows and for columns with numerical features\n",
    "    clean_df= data                                                 # a new dataframe is created from working data, for displaying purpose\n",
    "    print(data)                                                    # print command for working data. \n",
    "    clean_df1=data.head(10)                                        # Pandas head() method is used to return top n rows of a data frame or series.     \n",
    "    #display(HTML(clean_df1.to_html()))\n",
    "    #print(clean_df.isnull().sum())\n",
    "    print()\n",
    "    clean_df=(df.fillna(df.mode().iloc[0]))                        # on working with knn on numerical data , the categorical data remain unchanged , the categorical data is imputed using the most frequent occurances.\n",
    "    print(clean_df)\n",
    "    print('')\n",
    "    print('Following is the data available after Missing Value Treatment using KNN')\n",
    "    clean_df1=clean_df.head(10)                                    # Pandas head() method is used to return top n rows of a data frame or series.     \n",
    "    display(HTML(clean_df1.to_html()))                             # display - When this object is returned by an expression or passed to the display function, it will result in the data being displayed in the frontend.         \n",
    "    print(\"\\nEmpty rows  after imputing the data: \\n\", clean_df.isnull().sum())  #showing null values(if any) after imputation\n",
    "KNN(data)                                                          # WHY MODE FOR CATEGORICAL DATA : Among the three methods (KNN, kernel dense method, support vector machines) only kernel dense method can handle the categorical variables, while KNN and SVM are unable to be applied directly since they are based on Euclidean distances.\n",
    " \n",
    " "
   ]
  },
  {
   "cell_type": "markdown",
   "metadata": {},
   "source": [
    "# THE END"
   ]
  }
 ],
 "metadata": {
  "kernelspec": {
   "display_name": "Python 3",
   "language": "python",
   "name": "python3"
  },
  "language_info": {
   "codemirror_mode": {
    "name": "ipython",
    "version": 3
   },
   "file_extension": ".py",
   "mimetype": "text/x-python",
   "name": "python",
   "nbconvert_exporter": "python",
   "pygments_lexer": "ipython3",
   "version": "3.7.6"
  }
 },
 "nbformat": 4,
 "nbformat_minor": 4
}
