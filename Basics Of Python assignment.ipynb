{
 "cells": [
  {
   "cell_type": "markdown",
   "metadata": {},
   "source": [
    "# Multiplication Table"
   ]
  },
  {
   "cell_type": "code",
   "execution_count": 1,
   "metadata": {},
   "outputs": [
    {
     "name": "stdout",
     "output_type": "stream",
     "text": [
      "Enter the number:5\n",
      "5 x 1 = 5\n",
      "5 x 2 = 10\n",
      "5 x 3 = 15\n",
      "5 x 4 = 20\n",
      "5 x 5 = 25\n",
      "5 x 6 = 30\n",
      "5 x 7 = 35\n",
      "5 x 8 = 40\n",
      "5 x 9 = 45\n",
      "5 x 10 = 50\n"
     ]
    }
   ],
   "source": [
    "#1. Write a function that inputs a number and prints the multiplication table of that number\n",
    "\n",
    "n = int(input('Enter the number:'))\n",
    "for i in range(1,11):\n",
    "    print(n,'x',i,'=',n*i)"
   ]
  },
  {
   "cell_type": "markdown",
   "metadata": {},
   "source": [
    "# Twin prime numbers"
   ]
  },
  {
   "cell_type": "code",
   "execution_count": 2,
   "metadata": {},
   "outputs": [
    {
     "name": "stdout",
     "output_type": "stream",
     "text": [
      "Twin prime numbers are:\n",
      "1   3\n",
      "3   5\n",
      "5   7\n",
      "11   13\n",
      "17   19\n",
      "29   31\n",
      "41   43\n",
      "59   61\n",
      "71   73\n",
      "101   103\n",
      "107   109\n",
      "137   139\n",
      "149   151\n",
      "179   181\n",
      "191   193\n",
      "197   199\n",
      "227   229\n",
      "239   241\n",
      "269   271\n",
      "281   283\n",
      "311   313\n",
      "347   349\n",
      "419   421\n",
      "431   433\n",
      "461   463\n",
      "521   523\n",
      "569   571\n",
      "599   601\n",
      "617   619\n",
      "641   643\n",
      "659   661\n",
      "809   811\n",
      "821   823\n",
      "827   829\n",
      "857   859\n",
      "881   883\n"
     ]
    }
   ],
   "source": [
    "#2.Write a program to print twin primes less than 1000. \n",
    "#If two consecutive odd numbers are both prime then they are known as twin primes\n",
    "\n",
    "def prime(n):\n",
    "    x=0\n",
    "    for i in range(2,(n//2)+1):\n",
    "        if n%i==0:\n",
    "            x=1\n",
    "            break\n",
    "    return x\n",
    "num1=1\n",
    "num2=1000\n",
    "print('Twin prime numbers are:')\n",
    "for i in range(num1,num2+1):\n",
    "    if prime(i)==0 and prime(i+2)==0:\n",
    "        print(i,' ',i+2)"
   ]
  },
  {
   "cell_type": "markdown",
   "metadata": {},
   "source": [
    "# Prime factors"
   ]
  },
  {
   "cell_type": "code",
   "execution_count": 3,
   "metadata": {},
   "outputs": [
    {
     "name": "stdout",
     "output_type": "stream",
     "text": [
      "Enter the number: 56\n",
      "2\n",
      "2\n",
      "2\n",
      "7\n"
     ]
    }
   ],
   "source": [
    "#3.Write a program to find out the prime factors of a number. Example: prime factors of 56 - 2, 2, 2, 7\n",
    "\n",
    "import math\n",
    " \n",
    "n = int(input('Enter the number: '))\n",
    "def primeFactors(n):\n",
    "    while n % 2 == 0:\n",
    "        print(2)\n",
    "        n = n / 2\n",
    "    for i in range(3,int(math.sqrt(n))+1, 2):\n",
    "        while n % i==0:\n",
    "            print (i)\n",
    "            n = n/i\n",
    "    if n>2:\n",
    "        print (int(n))\n",
    "\n",
    "primeFactors(n)"
   ]
  },
  {
   "cell_type": "markdown",
   "metadata": {},
   "source": [
    "# Permutations and Combinations"
   ]
  },
  {
   "cell_type": "code",
   "execution_count": 4,
   "metadata": {},
   "outputs": [
    {
     "name": "stdout",
     "output_type": "stream",
     "text": [
      "Value of n: 5\n",
      "Value of r: 2\n",
      "nPr = 20.0\n",
      "nCr= 10.0\n"
     ]
    }
   ],
   "source": [
    "#4. Write a program to implement these formulae of permutations and combinations. Number of permutations of n objects taken r at a time: p(n, r) = n! / (n-r)!. Number of combinations of n objects taken r at a time is: c(n, r) = n! / (r!*(n-r)!) = p(n,r) / r\n",
    "\n",
    "import math\n",
    "n = int(input(\"Value of n: \"))\n",
    "r = int(input(\"Value of r: \"))\n",
    "npr = math.factorial(n)/math.factorial(n-r)\n",
    "ncr = (math.factorial(n)/(math.factorial(r)*math.factorial(n-r)))\n",
    "print('nPr =',npr)\n",
    "print('nCr=',ncr)"
   ]
  },
  {
   "cell_type": "markdown",
   "metadata": {},
   "source": [
    "# Convert Decimal to Binary"
   ]
  },
  {
   "cell_type": "code",
   "execution_count": 2,
   "metadata": {},
   "outputs": [
    {
     "name": "stdout",
     "output_type": "stream",
     "text": [
      "Enter the number:55\n",
      "110111\n"
     ]
    }
   ],
   "source": [
    "#5. Write a function that converts a decimal number to binary number\n",
    "\n",
    "def ConvertToBinary(n):\n",
    "    return bin(n).replace('0b','')\n",
    "\n",
    "n = int(input('Enter the number:'))\n",
    "\n",
    "print(ConvertToBinary(n)) "
   ]
  },
  {
   "cell_type": "markdown",
   "metadata": {},
   "source": [
    "# Check Armstrong Number"
   ]
  },
  {
   "cell_type": "code",
   "execution_count": 6,
   "metadata": {},
   "outputs": [
    {
     "name": "stdout",
     "output_type": "stream",
     "text": [
      "enter the number: 153\n",
      "The cubic sum of 153 is 153\n",
      "153 is an Armstrong number\n"
     ]
    }
   ],
   "source": [
    "#6.Write a function cubesum() that accepts an integer and returns the sum of the cubes of individual digits of that number. \n",
    "#Use this function to make functions PrintArmstrong() and isArmstrong() to print Armstrong numbers and to find whether is an Armstrong number.\n",
    "\n",
    "num=int(input('enter the number: '))\n",
    "def cubeSum(num):\n",
    "    order = len(str(num))\n",
    "    temp = num\n",
    "    sum = 0\n",
    "    while temp > 0:\n",
    "        digit = temp % 10\n",
    "        sum += digit ** order\n",
    "        temp=temp//10\n",
    "    return sum\n",
    "\n",
    "\n",
    "def PrintArmstrong():\n",
    "    print('The cubic sum of {} is {}'.format(num,cubeSum(num)))\n",
    "def IsArmstrong(num):\n",
    "    if num==cubeSum(num):\n",
    "        print(num,'is an Armstrong number')\n",
    "    else:\n",
    "        print(num,'is not an Armstorng number')\n",
    "        \n",
    "PrintArmstrong()\n",
    "IsArmstrong(num)"
   ]
  },
  {
   "cell_type": "markdown",
   "metadata": {},
   "source": [
    "# Product of digits of number"
   ]
  },
  {
   "cell_type": "code",
   "execution_count": 3,
   "metadata": {},
   "outputs": [
    {
     "name": "stdout",
     "output_type": "stream",
     "text": [
      "Enter the number:86\n",
      "Product of digits of 86 is 6\n"
     ]
    }
   ],
   "source": [
    "#7. Write a function prodDigits() that inputs a number and returns the product of digits of that number\n",
    "\n",
    "n = int(input('Enter the number:'))\n",
    "def prodDigits(n):\n",
    "    temp=n\n",
    "    while True:\n",
    "        p=1\n",
    "        while temp!=0:\n",
    "            rem=temp%10\n",
    "            p=p*rem\n",
    "            temp=temp//10\n",
    "        temp=p\n",
    "        if p<10:\n",
    "            print('Product of digits of {} is {}'.format(n,p))\n",
    "            break\n",
    "prodDigits(n)"
   ]
  },
  {
   "cell_type": "markdown",
   "metadata": {},
   "source": [
    "# Multiplicative digital root & Multiplicative Persistence"
   ]
  },
  {
   "cell_type": "code",
   "execution_count": 8,
   "metadata": {},
   "outputs": [
    {
     "name": "stdout",
     "output_type": "stream",
     "text": [
      "enter the number: 86\n",
      "multiplicative ditital root: 6\n",
      "Multiplicative persistence: 3\n"
     ]
    }
   ],
   "source": [
    "#8.Using the function prodDigits() of previous exercise write functions MDR() and MPersistence() that input a number and return its multiplicative digital root and multiplicative persistence respectively\n",
    "n = int(input('enter the number: '))\n",
    "def MDR(n):\n",
    "    temp=n\n",
    "    while True:\n",
    "        p=1\n",
    "        while temp!=0:\n",
    "            rem=temp%10\n",
    "            p=p*rem\n",
    "            temp=temp//10\n",
    "        temp=p\n",
    "        if p<10:\n",
    "            print('multiplicative ditital root:',p)\n",
    "            break\n",
    "def MPersistence(n):\n",
    "    product = 1\n",
    "    persistence = 0\n",
    "    while n > 9:\n",
    "        for digit in range(0, len(str(n))):\n",
    "            product =product * int(str(n)[digit])\n",
    "        persistence += 1\n",
    "        n = product\n",
    "        product = 1\n",
    "    print(\"Multiplicative persistence:\", persistence)\n",
    "     \n",
    "MDR(n)\n",
    "MPersistence(n)"
   ]
  },
  {
   "cell_type": "markdown",
   "metadata": {},
   "source": [
    "# Sum of proper divisors of number"
   ]
  },
  {
   "cell_type": "code",
   "execution_count": 1,
   "metadata": {},
   "outputs": [
    {
     "name": "stdout",
     "output_type": "stream",
     "text": [
      "enter the number: 36\n",
      "55\n"
     ]
    }
   ],
   "source": [
    "#9.Write a function sumPdivisors() that finds the sum of proper divisors of a number.\n",
    "\n",
    "import math\n",
    "def sumPdivisor(n):\n",
    "    divisors = [1]\n",
    "    for i in range(2, n):\n",
    "        if n%i==0:\n",
    "            divisors.append(i)\n",
    "    return sum(divisors)\n",
    "\n",
    "n = int(input('enter the number: '))\n",
    "print(sumPdivisor(n))\n",
    " \n",
    " "
   ]
  },
  {
   "cell_type": "markdown",
   "metadata": {},
   "source": [
    "# Perfect Numbers"
   ]
  },
  {
   "cell_type": "code",
   "execution_count": 11,
   "metadata": {},
   "outputs": [
    {
     "name": "stdout",
     "output_type": "stream",
     "text": [
      "Perfect numbers till 500 are:\n",
      "6  is a perfect number\n",
      "28  is a perfect number\n",
      "496  is a perfect number\n"
     ]
    }
   ],
   "source": [
    "#10.A number is called perfect if the sum of proper divisors of that number is equal to the number. For example 28 is perfect number, since 1+2+4+7+14=28. Write a program to print all the perfect numbers in a given range\n",
    "\n",
    "def IsPerfect(n):\n",
    "    sum=1\n",
    "    i=2\n",
    "    while i*i<=n:\n",
    "        if n%i==0:\n",
    "            sum = sum + i + n/i \n",
    "        i += 1\n",
    "    return (True if sum == n and n!=1 else False) \n",
    "\n",
    "print(\"Perfect numbers till 500 are:\") \n",
    "n = 2\n",
    "for n in range (500): \n",
    "    if IsPerfect(n): \n",
    "        print(n , \" is a perfect number\")"
   ]
  },
  {
   "cell_type": "markdown",
   "metadata": {},
   "source": [
    "# Pair Of Amicable Numbers"
   ]
  },
  {
   "cell_type": "code",
   "execution_count": 12,
   "metadata": {},
   "outputs": [
    {
     "name": "stdout",
     "output_type": "stream",
     "text": [
      "Emicable pairs are as follows\n",
      "dict_items([(2, 1), (3, 1), (4, 3), (5, 1), (6, 6), (7, 1), (8, 7), (9, 4), (10, 8), (11, 1), (12, 16), (13, 1), (14, 10), (15, 9), (16, 15), (17, 1), (18, 21), (19, 1), (20, 22), (21, 11), (22, 14), (23, 1), (24, 36), (25, 6), (26, 16), (27, 13), (28, 28), (29, 1), (30, 42), (31, 1), (32, 31), (33, 15), (34, 20), (35, 13), (36, 55), (37, 1), (38, 22), (39, 17), (40, 50), (41, 1), (42, 54), (43, 1), (44, 40), (45, 33), (46, 26), (47, 1), (48, 76), (49, 8), (50, 43), (51, 21), (52, 46), (53, 1), (54, 66), (55, 17), (56, 64), (57, 23), (58, 32), (59, 1), (60, 108), (61, 1), (62, 34), (63, 41), (64, 63), (65, 19), (66, 78), (67, 1), (68, 58), (69, 27), (70, 74), (71, 1), (72, 123), (73, 1), (74, 40), (75, 49), (76, 64), (77, 19), (78, 90), (79, 1), (80, 106), (81, 40), (82, 44), (83, 1), (84, 140), (85, 23), (86, 46), (87, 33), (88, 92), (89, 1), (90, 144), (91, 21), (92, 76), (93, 35), (94, 50), (95, 25), (96, 156), (97, 1), (98, 73), (99, 57), (100, 117), (101, 1), (102, 114), (103, 1), (104, 106), (105, 87), (106, 56), (107, 1), (108, 172), (109, 1), (110, 106), (111, 41), (112, 136), (113, 1), (114, 126), (115, 29), (116, 94), (117, 65), (118, 62), (119, 25), (120, 240), (121, 12), (122, 64), (123, 45), (124, 100), (125, 31), (126, 186), (127, 1), (128, 127), (129, 47), (130, 122), (131, 1), (132, 204), (133, 27), (134, 70), (135, 105), (136, 134), (137, 1), (138, 150), (139, 1), (140, 196), (141, 51), (142, 74), (143, 25), (144, 259), (145, 35), (146, 76), (147, 81), (148, 118), (149, 1), (150, 222), (151, 1), (152, 148), (153, 81), (154, 134), (155, 37), (156, 236), (157, 1), (158, 82), (159, 57), (160, 218), (161, 31), (162, 201), (163, 1), (164, 130), (165, 123), (166, 86), (167, 1), (168, 312), (169, 14), (170, 154), (171, 89), (172, 136), (173, 1), (174, 186), (175, 73), (176, 196), (177, 63), (178, 92), (179, 1), (180, 366), (181, 1), (182, 154), (183, 65), (184, 176), (185, 43), (186, 198), (187, 29), (188, 148), (189, 131), (190, 170), (191, 1), (192, 316), (193, 1), (194, 100), (195, 141), (196, 203), (197, 1), (198, 270), (199, 1), (200, 265), (201, 71), (202, 104), (203, 37), (204, 300), (205, 47), (206, 106), (207, 105), (208, 226), (209, 31), (210, 366), (211, 1), (212, 166), (213, 75), (214, 110), (215, 49), (216, 384), (217, 39), (218, 112), (219, 77), (220, 284), (221, 31), (222, 234), (223, 1), (224, 280), (225, 178), (226, 116), (227, 1), (228, 332), (229, 1), (230, 202), (231, 153), (232, 218), (233, 1), (234, 312), (235, 53), (236, 184), (237, 83), (238, 194), (239, 1), (240, 504), (241, 1), (242, 157), (243, 121), (244, 190), (245, 97), (246, 258), (247, 33), (248, 232), (249, 87), (250, 218), (251, 1), (252, 476), (253, 35), (254, 130), (255, 177), (256, 255), (257, 1), (258, 270), (259, 45), (260, 328), (261, 129), (262, 134), (263, 1), (264, 456), (265, 59), (266, 214), (267, 93), (268, 208), (269, 1), (270, 450), (271, 1), (272, 286), (273, 175), (274, 140), (275, 97), (276, 396), (277, 1), (278, 142), (279, 137), (280, 440), (281, 1), (282, 294), (283, 1), (284, 220), (285, 195), (286, 218), (287, 49), (288, 531), (289, 18), (290, 250), (291, 101), (292, 226), (293, 1), (294, 390), (295, 65), (296, 274), (297, 183), (298, 152), (299, 37), (300, 568)])\n"
     ]
    }
   ],
   "source": [
    "#Q.11 Write a function to print pairs of amicable numbers in a range\n",
    "lower = 1\n",
    "upper = 300\n",
    "lst = []\n",
    "dict = {}\n",
    "print('Emicable pairs are as follows')\n",
    "for index in range(lower,upper+1):\n",
    "    sum = 0\n",
    "    for i in range(1, index):\n",
    "        if index % i == 0:\n",
    "            sum += i\n",
    "        dict[index] = sum\n",
    "print(dict.items())"
   ]
  },
  {
   "cell_type": "markdown",
   "metadata": {},
   "source": [
    "# Filtering odd numbers"
   ]
  },
  {
   "cell_type": "code",
   "execution_count": 13,
   "metadata": {},
   "outputs": [
    {
     "name": "stdout",
     "output_type": "stream",
     "text": [
      "List of odd numbers:  [1, 3, 5, 7, 9, 11, 13, 15, 17, 19]\n"
     ]
    }
   ],
   "source": [
    "#12.Write a program which can filter odd numbers in a list by using filter function\n",
    "\n",
    "list1 = [1,2,3,4,5,6,7,8,9,10,11,12,13,14,15,16,17,18,19,20]  \n",
    "  \n",
    "oddnumber=list(filter(lambda x: (x%2!= 0), list1)) \n",
    "\n",
    "print(\"List of odd numbers: \", oddnumber)"
   ]
  },
  {
   "cell_type": "markdown",
   "metadata": {},
   "source": [
    "# Mapping of elements"
   ]
  },
  {
   "cell_type": "code",
   "execution_count": 14,
   "metadata": {},
   "outputs": [
    {
     "name": "stdout",
     "output_type": "stream",
     "text": [
      "[1, 8, 27, 64, 125]\n"
     ]
    }
   ],
   "source": [
    "#13. Write a program which can map() to make a list whose elements are cube of elements in a given list \n",
    "list1=[1,2,3,4,5]\n",
    " \n",
    "result=map(lambda x: x**3,list1)\n",
    "print(list(result))"
   ]
  },
  {
   "cell_type": "markdown",
   "metadata": {},
   "source": [
    "# Map and Filter"
   ]
  },
  {
   "cell_type": "code",
   "execution_count": 15,
   "metadata": {},
   "outputs": [
    {
     "name": "stdout",
     "output_type": "stream",
     "text": [
      "[8, 64, 216, 512, 1000, 1728, 2744, 4096, 5832, 8000]\n"
     ]
    }
   ],
   "source": [
    "#14.Write a program which can map() and filter() to make a list whose elements are cube of even number in a given list\n",
    "\n",
    "list1 = [1,2,3,4,5,6,7,8,9,10,11,12,13,14,15,16,17,18,19,20]\n",
    " \n",
    "result = map(lambda x: x**3, filter(lambda x: x%2==0, list1))\n",
    "\n",
    "print(list(result))"
   ]
  },
  {
   "cell_type": "markdown",
   "metadata": {},
   "source": [
    "# THE END"
   ]
  }
 ],
 "metadata": {
  "kernelspec": {
   "display_name": "Python 3",
   "language": "python",
   "name": "python3"
  },
  "language_info": {
   "codemirror_mode": {
    "name": "ipython",
    "version": 3
   },
   "file_extension": ".py",
   "mimetype": "text/x-python",
   "name": "python",
   "nbconvert_exporter": "python",
   "pygments_lexer": "ipython3",
   "version": "3.7.6"
  }
 },
 "nbformat": 4,
 "nbformat_minor": 4
}
